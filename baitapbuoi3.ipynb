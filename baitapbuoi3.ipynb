{
  "nbformat": 4,
  "nbformat_minor": 0,
  "metadata": {
    "colab": {
      "provenance": []
    },
    "kernelspec": {
      "name": "python3",
      "display_name": "Python 3"
    },
    "language_info": {
      "name": "python"
    }
  },
  "cells": [
    {
      "cell_type": "code",
      "execution_count": null,
      "metadata": {
        "id": "MyFD6iLGYmiY"
      },
      "outputs": [],
      "source": [
        "#bai 1\n",
        "n = int(input()) #nhap so nguyen n\n",
        "n = str(n)\n",
        "for i in range(len(n)-1, -1, -1):\n",
        "    print(n[i], sep=\"\", end=\"\")"
      ]
    },
    {
      "cell_type": "code",
      "source": [
        "#bai 2\n",
        "a, b = map(int, input().split())\n",
        "a = a ^ b\n",
        "b = a ^ b\n",
        "a = a ^ b\n",
        "print(a, b)"
      ],
      "metadata": {
        "id": "mRWNlGZxYxQk"
      },
      "execution_count": null,
      "outputs": []
    },
    {
      "cell_type": "code",
      "source": [
        "#bai 3\n",
        "from math import sqrt\n",
        "\n",
        "n = int(input())\n",
        "\n",
        "#cach 1\n",
        "# if int(sqrt(n))**2==n:\n",
        "#     print(True)\n",
        "# else:\n",
        "#     print(False)\n",
        "\n",
        "#cach 2\n",
        "\n",
        "if not n&(n-1) :\n",
        "    print(True)\n",
        "else :\n",
        "    print(False)"
      ],
      "metadata": {
        "id": "J81harYsY5Y0"
      },
      "execution_count": null,
      "outputs": []
    },
    {
      "cell_type": "code",
      "source": [
        "#bai 4\n",
        "m, n = [int(x) for x in input().split()]\n",
        "print(int(m/n))"
      ],
      "metadata": {
        "id": "633EWUdwY8Vs"
      },
      "execution_count": null,
      "outputs": []
    },
    {
      "cell_type": "code",
      "source": [
        "#bai 5\n",
        "m, n = map(int, input().split())\n",
        "print(int( (m/n) + 0.5 ))"
      ],
      "metadata": {
        "id": "7PQevgYAZBGb"
      },
      "execution_count": null,
      "outputs": []
    },
    {
      "cell_type": "code",
      "source": [
        "#bai 6\n",
        "x = int(input())\n",
        "if x&1 :\n",
        "    print(\"Odd\")\n",
        "else :\n",
        "    print(\"Even\")"
      ],
      "metadata": {
        "id": "HoFhzgSOZEDc"
      },
      "execution_count": null,
      "outputs": []
    },
    {
      "cell_type": "code",
      "source": [
        "#bai 7\n",
        "a = int(input())\n",
        "b = int(input())\n",
        "if a<0 and b<0 :\n",
        "    print(\"Yes\")\n",
        "else :\n",
        "    print(\"No\")"
      ],
      "metadata": {
        "id": "Sc9AklMkZHZD"
      },
      "execution_count": null,
      "outputs": []
    },
    {
      "cell_type": "code",
      "source": [
        "#bai 8\n",
        "a = input()\n",
        "b = input()\n",
        "if len(a) > len(b):\n",
        "    print(\"True\")\n",
        "else:\n",
        "    print(\"False\")"
      ],
      "metadata": {
        "id": "4DW83KLrZMAT"
      },
      "execution_count": null,
      "outputs": []
    },
    {
      "cell_type": "code",
      "source": [
        "#bai 9\n",
        "a = int(input())\n",
        "b = int(input())\n",
        "c = int(input())\n",
        "\n",
        "edge = [a, b, c]\n",
        "sum = a+b+c\n",
        "isTriangle = True\n",
        "\n",
        "for i in edge:\n",
        "    if i>=sum-i:\n",
        "        isTriangle = False\n",
        "        break\n",
        "\n",
        "if isTriangle:\n",
        "    print(\"Yes\")\n",
        "else:\n",
        "    print(\"No\")"
      ],
      "metadata": {
        "id": "MxhfxY2AZTOU"
      },
      "execution_count": null,
      "outputs": []
    },
    {
      "cell_type": "code",
      "source": [
        "#bai 10\n",
        "max = 0\n",
        "for i in range(0, 4):\n",
        "    x = int(input())\n",
        "    if i==0 :\n",
        "        max = x\n",
        "    else:\n",
        "        if x>max:\n",
        "            max=x\n",
        "print(max)"
      ],
      "metadata": {
        "id": "pG0Eb6-FZVzr"
      },
      "execution_count": null,
      "outputs": []
    },
    {
      "cell_type": "code",
      "source": [
        "#bai 11\n",
        "def isTriangle(a, b, c):\n",
        "    return a<b+c and b<a+c and c<a+b\n",
        "\n",
        "a, b, c = map(int, input().split())\n",
        "\n",
        "if isTriangle(a, b, c):\n",
        "    if a==b==c:\n",
        "        print(\"Tam giac deu\")\n",
        "    elif (a==b or a==c or b==c):\n",
        "        print(\"Tam giac can\")\n",
        "    else:\n",
        "        print(\"Tam giac thuong\")\n",
        "else:\n",
        "    print(\"Khong phai tam giac\")"
      ],
      "metadata": {
        "id": "-d4-lNnGZeUb"
      },
      "execution_count": null,
      "outputs": []
    },
    {
      "cell_type": "code",
      "source": [
        "#bai 12\n",
        "def bac(so_dien):\n",
        "    if 0<=so_dien<=50:\n",
        "        return 1500\n",
        "    if 51<=so_dien<=100:\n",
        "        return 2000\n",
        "    if so_dien>100:\n",
        "        return 3000\n",
        "\n",
        "so_dien = int(input())\n",
        "tien = 0\n",
        "while (so_dien!=0):\n",
        "    tien += bac(so_dien)\n",
        "    so_dien -= 1\n",
        "\n",
        "print(tien)"
      ],
      "metadata": {
        "id": "_7bAu-CsZf0L"
      },
      "execution_count": null,
      "outputs": []
    },
    {
      "cell_type": "code",
      "source": [
        "#bai 13\n",
        "a = float(input())\n",
        "b = float(input())\n",
        "\n",
        "if a!=0:\n",
        "    print(f\"{-b/a:.2f}\")\n",
        "elif b==0:\n",
        "    print(\"Vo so nghiem\")\n",
        "else:\n",
        "    print(\"Vo nghiem\")"
      ],
      "metadata": {
        "id": "4j25usatZjTL"
      },
      "execution_count": null,
      "outputs": []
    },
    {
      "cell_type": "code",
      "source": [
        "#bai 14\n",
        "diem = float(input())\n",
        "match diem:\n",
        "    case gioi if gioi>=8.0:\n",
        "        print(\"Gioi\")\n",
        "    case kha if kha>=6.5:\n",
        "        print(\"Kha\")\n",
        "    case trung_binh if trung_binh>=5.0:\n",
        "        print(\"Trung binh\")\n",
        "    case yeu if yeu<5.0:\n",
        "        print(\"Yeu\")\n",
        "    case _:\n",
        "        print(\"Diem khong hop le\")"
      ],
      "metadata": {
        "id": "Op1Hw1OhZocr"
      },
      "execution_count": null,
      "outputs": []
    },
    {
      "cell_type": "code",
      "source": [
        "#bai 15\n",
        "a = float(input())\n",
        "if a%1.0==0.0:\n",
        "    print(f\"{a:.0f} {a:.0f} {a:.0f}\")\n",
        "else:\n",
        "    print(f\"{a+0.5:.0f} {a-0.5:.0f} {a:.0f}\")"
      ],
      "metadata": {
        "id": "mraRsWUuZr0j"
      },
      "execution_count": null,
      "outputs": []
    },
    {
      "cell_type": "code",
      "source": [
        "#bai 16\n",
        "def isTriangle(a, b, c):\n",
        "    return a<b+c and b<a+c and c<a+b\n",
        "\n",
        "a, b, c = map(int, input().split())\n",
        "\n",
        "if isTriangle(a, b, c):\n",
        "    if a==b==c:\n",
        "        print(\"Tam giac deu\")\n",
        "    elif (a==b or a==c or b==c):\n",
        "        print(\"Tam giac can\")\n",
        "    else:\n",
        "        print(\"Tam giac thuong\")\n",
        "else:\n",
        "    print(\"Khong phai tam giac\")"
      ],
      "metadata": {
        "id": "UQA_lFIRZvir"
      },
      "execution_count": null,
      "outputs": []
    }
  ]
}