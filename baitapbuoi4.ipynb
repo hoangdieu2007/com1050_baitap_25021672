{
  "nbformat": 4,
  "nbformat_minor": 0,
  "metadata": {
    "colab": {
      "provenance": []
    },
    "kernelspec": {
      "name": "python3",
      "display_name": "Python 3"
    },
    "language_info": {
      "name": "python"
    }
  },
  "cells": [
    {
      "cell_type": "code",
      "execution_count": null,
      "metadata": {
        "id": "DwzljVdRdUrm"
      },
      "outputs": [],
      "source": [
        "#bai 1\n",
        "n = int(input())\n",
        "sum = 0\n",
        "\n",
        "for i in range(1, n+1) :\n",
        "    sum+=i\n",
        "print(sum)"
      ]
    },
    {
      "cell_type": "code",
      "source": [
        "#bai 2\n",
        "import math\n",
        "\n",
        "def is_num(num) :\n",
        "    for i in num:\n",
        "        if ord(i)<48 or ord(i)>58:\n",
        "            return False\n",
        "    if int(num)==0:\n",
        "        return False\n",
        "    return True\n",
        "\n",
        "def is_prime(num) :\n",
        "    if num==0 or num==1 :\n",
        "        return False\n",
        "    for i in range(2, int(math.sqrt(num))+1) :\n",
        "        if num%i==0:\n",
        "            return False\n",
        "    return True\n",
        "\n",
        "n = \"abc\"\n",
        "while not is_num(n):\n",
        "    n = input()\n",
        "n = int(n)\n",
        "\n",
        "#sang nguyen to\n",
        "# prime = [0, 0]\n",
        "# for i in range (2, 100010) :\n",
        "#     prime.append(1)\n",
        "# for i in range (2, 100010) :\n",
        "#     j = 2\n",
        "#     while (i*j<=100000 and prime[i]==1) :\n",
        "#         prime[i*j]=0\n",
        "#         j+=1\n",
        "\n",
        "if (is_prime(n)) :\n",
        "    print(\"Yes\")\n",
        "else :\n",
        "    print(\"No\")"
      ],
      "metadata": {
        "id": "vlOOrtzzdZd2"
      },
      "execution_count": null,
      "outputs": []
    },
    {
      "cell_type": "code",
      "source": [
        "#bai 3\n",
        "n = int(input())\n",
        "ans = 1\n",
        "for i in range(1, n+1) :\n",
        "    ans*=i\n",
        "print(ans)"
      ],
      "metadata": {
        "id": "6hVRtci8dd49"
      },
      "execution_count": null,
      "outputs": []
    },
    {
      "cell_type": "code",
      "source": [
        "#bai 4\n",
        "n = int(input())\n",
        "if n<0:\n",
        "    n=-n\n",
        "cnt=1\n",
        "while n>=10:\n",
        "    cnt+=1\n",
        "    n//=10\n",
        "print(cnt)"
      ],
      "metadata": {
        "id": "ifOmtp-9dlAl"
      },
      "execution_count": null,
      "outputs": []
    },
    {
      "cell_type": "code",
      "source": [
        "#bai 5\n",
        "n = int(input())\n",
        "a = [int(i) for i in input().split()]\n",
        "found = False\n",
        "for i in range(0, n) :\n",
        "    if a[i]== 42:\n",
        "        found = True\n",
        "if found :\n",
        "    print(\"I've found the meaning of life!\")\n",
        "else :\n",
        "    print(\"It's a joke!\")"
      ],
      "metadata": {
        "id": "1_uH5hu9doKV"
      },
      "execution_count": null,
      "outputs": []
    },
    {
      "cell_type": "code",
      "source": [
        "#bai 6\n",
        "import math\n",
        "\n",
        "def is_prime(num) :\n",
        "    if num==0 or num==1 :\n",
        "        return False\n",
        "    for i in range(2, int(math.sqrt(num))+1) :\n",
        "        if num%i==0:\n",
        "            return False\n",
        "    return True\n",
        "\n",
        "a, b = map(int, input().split())\n",
        "ans=0\n",
        "for i in range (a, b+1) :\n",
        "    if is_prime(i) :\n",
        "        ans+=i\n",
        "\n",
        "print(ans)"
      ],
      "metadata": {
        "id": "nOvCqevkdt4d"
      },
      "execution_count": null,
      "outputs": []
    },
    {
      "cell_type": "code",
      "source": [
        "#bai 7\n",
        "import math\n",
        "\n",
        "def is_prime(num) :\n",
        "    if num==0 or num==1 :\n",
        "        return False\n",
        "    for i in range(2, int(math.sqrt(num))+1) :\n",
        "        if num%i==0:\n",
        "            return False\n",
        "    return True\n",
        "\n",
        "n = int(input())\n",
        "for i in range (n, 1, -1) :\n",
        "    if n%i==0 :\n",
        "        if is_prime(i):\n",
        "            print(i)\n",
        "            break"
      ],
      "metadata": {
        "id": "jwadKSjMdzx2"
      },
      "execution_count": null,
      "outputs": []
    },
    {
      "cell_type": "code",
      "source": [
        "#bai 8\n",
        "def is_palindrome(num) :\n",
        "    num = str(num)\n",
        "    length = len(num)\n",
        "    for i in range (0, length//2):\n",
        "        if num[i]!=num[length-i-1]:\n",
        "            return False\n",
        "    return True\n",
        "\n",
        "def rev(num) :\n",
        "    num = str(num)\n",
        "    length = len(num)\n",
        "    revnum = \"\"\n",
        "    for i in range(0, length):\n",
        "        revnum=num[i]+revnum\n",
        "    return int(revnum)\n",
        "\n",
        "n = int(input())\n",
        "step=0\n",
        "while not is_palindrome(n):\n",
        "    n = n + rev(n)\n",
        "    step+=1\n",
        "\n",
        "print(step, n)"
      ],
      "metadata": {
        "id": "pFjo9VWWd43m"
      },
      "execution_count": null,
      "outputs": []
    },
    {
      "cell_type": "code",
      "source": [
        "#bai 9\n",
        "n = int(input())\n",
        "for i in range (1, n):\n",
        "    if i*i>=n :\n",
        "        break\n",
        "    else:\n",
        "        print(i*i, end= \" \")"
      ],
      "metadata": {
        "id": "t4wTey0nd9M1"
      },
      "execution_count": null,
      "outputs": []
    },
    {
      "cell_type": "code",
      "source": [
        "#bai 10\n",
        "def collatz(num) :\n",
        "    count=1\n",
        "    while(num!=1):\n",
        "        if num&1==0:\n",
        "            num//=2\n",
        "            count+=1\n",
        "        else :\n",
        "            num=3*num+1\n",
        "            count+=1\n",
        "    return count\n",
        "\n",
        "maxnum = -999\n",
        "maxlen = -999\n",
        "n = int(input())\n",
        "for i in range (1, n+1) :\n",
        "    curlen = collatz(i)\n",
        "    if curlen>maxlen:\n",
        "        maxnum=i\n",
        "        maxlen=curlen\n",
        "\n",
        "print(maxnum, maxlen)\n"
      ],
      "metadata": {
        "id": "yLvQDUh0eFTV"
      },
      "execution_count": null,
      "outputs": []
    },
    {
      "cell_type": "code",
      "source": [
        "#bai 11\n",
        "n = int(input())\n",
        "count=0\n",
        "i=2\n",
        "while (i<=n/2) :\n",
        "    if n%i==0:\n",
        "        count+=1\n",
        "    i+=2\n",
        "if (n&1==0) :\n",
        "    count+=1\n",
        "print(count)"
      ],
      "metadata": {
        "id": "_3mTRe_aeIp9"
      },
      "execution_count": null,
      "outputs": []
    },
    {
      "cell_type": "code",
      "source": [
        "#bai 12\n",
        "x, n = map(int, input().split())\n",
        "for i in range (0, n):\n",
        "    x*=1.007\n",
        "print(int(x))"
      ],
      "metadata": {
        "id": "Xrc0_FSYeMQ9"
      },
      "execution_count": null,
      "outputs": []
    },
    {
      "cell_type": "code",
      "source": [
        "#bai 13\n",
        "def divsum(num) :\n",
        "    sum = 0\n",
        "    for i in range (1, num//2+1) :\n",
        "        if num%i==0:\n",
        "            sum+=i\n",
        "    return sum\n",
        "\n",
        "a, b = map(int, input().split())\n",
        "if (a==divsum(b) and b==divsum(a)) :\n",
        "    print(\"true\")\n",
        "else :\n",
        "    print(\"false\")"
      ],
      "metadata": {
        "id": "-yG6wF-NeQe0"
      },
      "execution_count": null,
      "outputs": []
    },
    {
      "cell_type": "code",
      "source": [
        "#bai 14\n",
        "def find_gcd(a, b):\n",
        "    while b!=0:\n",
        "        c=a%b\n",
        "        a=b\n",
        "        b=c\n",
        "    return a\n",
        "\n",
        "m, n = map(int, input().split())\n",
        "print(find_gcd(m, n))"
      ],
      "metadata": {
        "id": "vCZiY9GceUAs"
      },
      "execution_count": null,
      "outputs": []
    },
    {
      "cell_type": "code",
      "source": [
        "#bai 15\n",
        "qty, feet = map(int, input().split())\n",
        "dog = (feet-2*qty)/2\n",
        "if (dog-int(dog)!=0 or 2*qty>feet):\n",
        "    print(\"invalid\")\n",
        "else:\n",
        "    dog = int(dog)\n",
        "    chicken = qty-dog\n",
        "    print(chicken, dog)"
      ],
      "metadata": {
        "id": "KtsAVTQ6eXVV"
      },
      "execution_count": null,
      "outputs": []
    },
    {
      "cell_type": "code",
      "source": [
        "#bai 16\n",
        "i = 0\n",
        "while(i<100):\n",
        "    print(i)\n",
        "    i+=6"
      ],
      "metadata": {
        "id": "k4P3SpSneeJE"
      },
      "execution_count": null,
      "outputs": []
    },
    {
      "cell_type": "code",
      "source": [
        "#bai 17\n",
        "a = int(input())\n",
        "for i in range(1, 11):\n",
        "    print(f\"{a} x {i} =\", a*i)"
      ],
      "metadata": {
        "id": "oNF6PquKehg0"
      },
      "execution_count": null,
      "outputs": []
    },
    {
      "cell_type": "code",
      "source": [
        "#bai 18\n",
        "def find_gcd(m, n):\n",
        "    while n!=0:\n",
        "        c=m%n\n",
        "        m=n\n",
        "        n=c\n",
        "    return m\n",
        "\n",
        "a, b = [int(i) for i in input().split()]\n",
        "d = find_gcd(a, b)\n",
        "for i in range (1, d+1):\n",
        "    if a%i==0 and b%i==0:\n",
        "        print(i)"
      ],
      "metadata": {
        "id": "PhwG7Lm0elYE"
      },
      "execution_count": null,
      "outputs": []
    },
    {
      "cell_type": "code",
      "source": [
        "#bai 19\n",
        "n = int(input())\n",
        "for i in range(2, n-(n&1)+1, 2):\n",
        "    print(i)"
      ],
      "metadata": {
        "id": "zm4kKFZweov8"
      },
      "execution_count": null,
      "outputs": []
    },
    {
      "cell_type": "code",
      "source": [
        "#bai 20\n",
        "n = int(input(\"Nhap so nguyen duong n: \"))\n",
        "if n&(n-1)==0:\n",
        "    print(\"n la so dang 2^k\")\n",
        "else:\n",
        "    print(\"n khong la so dang 2^k\")"
      ],
      "metadata": {
        "id": "13hBKqzjer_M"
      },
      "execution_count": null,
      "outputs": []
    },
    {
      "cell_type": "code",
      "source": [
        "#bai 21\n",
        "def is_num(num) :\n",
        "    for i in num:\n",
        "        if ord(i)<48 or ord(i)>58:\n",
        "            return False\n",
        "    if int(num)==0:\n",
        "        return False\n",
        "    return True\n",
        "\n",
        "n = \"abc\"\n",
        "while not is_num(n):\n",
        "    n = input(\"Nhap so nguyen duong n: \")\n",
        "\n",
        "sum=0\n",
        "for i in n:\n",
        "    sum+=ord(i)-48\n",
        "print(sum)"
      ],
      "metadata": {
        "id": "bbUCnxkFevW9"
      },
      "execution_count": null,
      "outputs": []
    },
    {
      "cell_type": "code",
      "source": [
        "#bai 22\n",
        "def is_num(num) :\n",
        "    for i in num:\n",
        "        if ord(i)<48 or ord(i)>58:\n",
        "            return False\n",
        "    if int(num)==0:\n",
        "        return False\n",
        "    return True\n",
        "\n",
        "n = \"abc\"\n",
        "while not is_num(n):\n",
        "    n = input(\"Nhap so nguyen duong n: \")\n",
        "\n",
        "even=0\n",
        "odd=0\n",
        "for i in n:\n",
        "    if ord(i)&1==0:\n",
        "        even+=1\n",
        "    else :\n",
        "        odd+=1\n",
        "print(f\"n co {even} chu so chan va {odd} chu so le\")"
      ],
      "metadata": {
        "id": "67x2oUk_e12M"
      },
      "execution_count": null,
      "outputs": []
    },
    {
      "cell_type": "code",
      "source": [
        "#bai 23\n",
        "n = int(input(\"Nhap n: \"))\n",
        "k=0\n",
        "s=0\n",
        "while s<n:\n",
        "    k+=1\n",
        "    s+=k\n",
        "    print(s, k)\n",
        "print(\"So k lon nhat thoa man S(k)<n la\" ,k-1)"
      ],
      "metadata": {
        "id": "PueOhhL0e5QE"
      },
      "execution_count": null,
      "outputs": []
    },
    {
      "cell_type": "code",
      "source": [
        "#bai 24\n",
        "a = int(input(\"Nhap so A: \"))\n",
        "sum = 0\n",
        "n=0\n",
        "while sum<a:\n",
        "    n+=1\n",
        "    sum+=1/n\n",
        "print(n)"
      ],
      "metadata": {
        "id": "thVeUOmZe9T0"
      },
      "execution_count": null,
      "outputs": []
    },
    {
      "cell_type": "code",
      "source": [
        "#bai 25\n",
        "i=0\n",
        "maxval=-999999999999\n",
        "minval=999999999999\n",
        "while i!=-1:\n",
        "    i = int(input())\n",
        "    if i>maxval and i!=-1:\n",
        "        maxval=i\n",
        "    if i<minval and i!=-1:\n",
        "        minval=i\n",
        "print(f\"So nho nhat la {minval}, so lon nhat {maxval}\")"
      ],
      "metadata": {
        "id": "sCHpG5Q6fAUc"
      },
      "execution_count": null,
      "outputs": []
    },
    {
      "cell_type": "code",
      "source": [
        "#bai 26\n",
        "a = int(input())\n",
        "f1=0\n",
        "f2=1\n",
        "while f2<=a:\n",
        "    c=f2+f1\n",
        "    f1=f2\n",
        "    f2=c\n",
        "print(f1)"
      ],
      "metadata": {
        "id": "fAvTKkWXfNjs"
      },
      "execution_count": null,
      "outputs": []
    },
    {
      "cell_type": "code",
      "source": [
        "#bai 27\n",
        "s = input()\n",
        "count=1\n",
        "for i in range(len(s)):\n",
        "    if s[i]==\" \":\n",
        "        count+=1\n",
        "print(count)"
      ],
      "metadata": {
        "id": "4Ej9tUDwfSJ0"
      },
      "execution_count": null,
      "outputs": []
    },
    {
      "cell_type": "code",
      "source": [
        "#bai 28\n",
        "s = input()\n",
        "for i in range(len(s)):\n",
        "    if s[i]==\" \":\n",
        "        break\n",
        "    print(s[i], end=\"\")"
      ],
      "metadata": {
        "id": "OcsbsWq1fVIc"
      },
      "execution_count": null,
      "outputs": []
    },
    {
      "cell_type": "code",
      "source": [
        "#bai 29\n",
        "a, b, c = input().split()\n",
        "a=int(a[:-1])\n",
        "b=int(b[:-1])\n",
        "c=int(c)\n",
        "print(a+b+c)"
      ],
      "metadata": {
        "id": "dj7yDWPwfYkM"
      },
      "execution_count": null,
      "outputs": []
    },
    {
      "cell_type": "code",
      "source": [
        "#bai 30\n",
        "s = input()\n",
        "chuhoa = 0\n",
        "chuthuong = 0\n",
        "so = 0\n",
        "for i in s:\n",
        "    if 48<=ord(i)<=57:\n",
        "        so+=1\n",
        "    elif 65<=ord(i)<=90:\n",
        "        chuhoa+=1\n",
        "    elif 97<=ord(i)<=122:\n",
        "        chuthuong+=1\n",
        "print(f\"Co {chuhoa} ky tu in hoa, {chuthuong} ky tu in thuong va {so} ky tu so\")\n"
      ],
      "metadata": {
        "id": "f6dC2hfJfivj"
      },
      "execution_count": null,
      "outputs": []
    },
    {
      "cell_type": "code",
      "source": [
        "#bai 31\n",
        "s=input()\n",
        "sum=0\n",
        "output=\"\"\n",
        "for i in s:\n",
        "    if 48<=ord(i)<=57:\n",
        "        output+=i+\" + \"\n",
        "        sum+=ord(i)-48\n",
        "print(output[:-3],\"=\", sum)\n"
      ],
      "metadata": {
        "id": "-a3hUFa7fm6M"
      },
      "execution_count": null,
      "outputs": []
    },
    {
      "cell_type": "code",
      "source": [
        "#bai 32\n",
        "foundlow=False\n",
        "foundup=False\n",
        "foundnum=False\n",
        "foundspe=False\n",
        "s=input()\n",
        "for i in s:\n",
        "    if 48<=ord(i)<=57:\n",
        "        foundnum=True\n",
        "    elif 65<=ord(i)<=90:\n",
        "        foundup=True\n",
        "    elif 97<=ord(i)<=122:\n",
        "        foundlow=True\n",
        "    else:\n",
        "        foundspe=True\n",
        "if foundlow and foundup and foundnum and foundspe and len(s)>6:\n",
        "    print(\"Day la mat khau manh\")\n",
        "else:\n",
        "    print(\"Day khong la mat khau manh\")"
      ],
      "metadata": {
        "id": "_0R8HaOpfqJr"
      },
      "execution_count": null,
      "outputs": []
    },
    {
      "cell_type": "code",
      "source": [
        "#bai 33\n",
        "n = int(input())\n",
        "n = str(n)\n",
        "output = \"\"\n",
        "for i in range (1, len(n)+1):\n",
        "    if i%3==0:\n",
        "        output+=n[i-3:i]+\".\"\n",
        "if (output[-1:]==\".\"):\n",
        "    print(output[:-1])\n",
        "else:\n",
        "    print(output)"
      ],
      "metadata": {
        "id": "p6m_6MSSfvTs"
      },
      "execution_count": null,
      "outputs": []
    },
    {
      "cell_type": "code",
      "source": [
        "#bai 34\n",
        "a = input()\n",
        "b = input()\n",
        "lena = len(a)\n",
        "lenb = len(b)\n",
        "#sliding window\n",
        "l=0\n",
        "r=0\n",
        "blacklist=[]\n",
        "while r!=lena:\n",
        "    while r-l!=lenb:\n",
        "        if a[r]==b[r-l]:\n",
        "            r+=1\n",
        "        else:\n",
        "            if a[r]==b[0]:\n",
        "                l=r\n",
        "            else :\n",
        "                r+=1\n",
        "                l=r\n",
        "                if r==lena:\n",
        "                    break\n",
        "    #index l->r-1 is substr\n",
        "    blacklist+=range(l,r)\n",
        "    l=r\n",
        "# print(blacklist)\n",
        "blacklist_idx=0\n",
        "lenbl = len(blacklist)\n",
        "for i in range(0, lena):\n",
        "    if blacklist_idx<lenbl and i==blacklist[blacklist_idx]:\n",
        "        blacklist_idx+=1\n",
        "    else:\n",
        "        print(a[i], end=\"\")"
      ],
      "metadata": {
        "id": "ygMssWFhf2Cb"
      },
      "execution_count": null,
      "outputs": []
    }
  ]
}