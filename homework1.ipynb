{
  "nbformat": 4,
  "nbformat_minor": 0,
  "metadata": {
    "colab": {
      "provenance": []
    },
    "kernelspec": {
      "name": "python3",
      "display_name": "Python 3"
    },
    "language_info": {
      "name": "python"
    }
  },
  "cells": [
    {
      "cell_type": "markdown",
      "source": [
        "Bài tập về nhà"
      ],
      "metadata": {
        "id": "v06wTn2U4m2p"
      }
    },
    {
      "cell_type": "code",
      "execution_count": null,
      "metadata": {
        "id": "jeS2YGAR2jCk"
      },
      "outputs": [],
      "source": [
        "#bai 1\n",
        "n = input(\"Nhap mot so nguyen: \")\n",
        "n = int(n)\n",
        "print(n*2)"
      ]
    },
    {
      "cell_type": "code",
      "source": [
        "#bai 2\n",
        "a = int(input(\"Nhap chieu dai\"))\n",
        "b = int(input(\"Nhap chieu rong\"))\n",
        "radius = min(a, b)/2\n",
        "print(\"Dien tich trong cay xung quanh la:\", a*b - 3.14*(radius**2))"
      ],
      "metadata": {
        "id": "Nm9UX-8p27Fa"
      },
      "execution_count": null,
      "outputs": []
    },
    {
      "cell_type": "code",
      "source": [
        "#bai 3\n",
        "c = input(\"Hay nhap 1 ki tu: \")\n",
        "if (ord(c)>=97) :\n",
        "    print(chr(ord(c)-32))\n",
        "else :\n",
        "    print(chr(ord(c)+32))"
      ],
      "metadata": {
        "id": "Q26gJwpI3LE5"
      },
      "execution_count": null,
      "outputs": []
    },
    {
      "cell_type": "code",
      "source": [
        "#bai 4\n",
        "c = input(\"Hay nhap 1 ki tu: \")\n",
        "if (ord(c)>=65 and ord(c)<=122) :\n",
        "    print(f\"{c} la ki tu alphabet\")\n",
        "else :\n",
        "    print(f\"{c} khong phai la ki tu alphabet\")"
      ],
      "metadata": {
        "id": "NgzLNRlR3zYR"
      },
      "execution_count": null,
      "outputs": []
    },
    {
      "cell_type": "code",
      "source": [
        "#bai 5\n",
        "c = input(\"Nhap 1 chu cai in hoa: \")\n",
        "if (c!='A') :\n",
        "    print(chr(ord(c)+31))\n",
        "else :\n",
        "    print(\"Truong hop dac biet, khong ton tai ki tu truoc A\")"
      ],
      "metadata": {
        "id": "TJYyxLz833co"
      },
      "execution_count": null,
      "outputs": []
    },
    {
      "cell_type": "code",
      "source": [
        "#bai 6\n",
        "import math\n",
        "\n",
        "a = int(input(\"Nhap canh thu nhat: \"))\n",
        "b = int(input(\"Nhap canh thu hai: \"))\n",
        "c = int(input(\"Nhap canh thu ba: \"))\n",
        "num_list = [a, b, c]\n",
        "sum = a+b+c\n",
        "p = sum/2\n",
        "is_triangle = True\n",
        "\n",
        "for i in num_list:\n",
        "    if i>=sum-i :\n",
        "        print(\"Khong phai 3 canh cua tam giac\")\n",
        "        is_triangle = False\n",
        "        break\n",
        "\n",
        "if (is_triangle) :\n",
        "    area = math.sqrt(p*(p-a)*(p-b)*(p-c))\n",
        "    print(f\"Dien tich tam giac: {area:.1f}\") #lam tron 1 chu so thap phan bang f-string"
      ],
      "metadata": {
        "id": "_ODpmmmh361x"
      },
      "execution_count": null,
      "outputs": []
    },
    {
      "cell_type": "code",
      "source": [
        "#bai 7\n",
        "s = input(\"Nhap xau ki tu: \")\n",
        "print(\"Chu cai thu 5:\", s[4])\n",
        "print(\"Chu cai thu 9:\", s[8])\n",
        "\n",
        "#index = thu tu - 1"
      ],
      "metadata": {
        "id": "Ancd59gY4Cs4"
      },
      "execution_count": null,
      "outputs": []
    },
    {
      "cell_type": "code",
      "source": [
        "#bai 8\n",
        "def negative_to_zero(n):\n",
        "    if n<0:\n",
        "        return 0\n",
        "    else:\n",
        "        return n\n",
        "\n",
        "name = input(\"Ten chu ho: \")\n",
        "last_month = int(input(\"Chi so thang truoc: \"))\n",
        "this_month = int(input(\"Chi so thang nay: \"))\n",
        "so_dien_da_dung = this_month-last_month\n",
        "\n",
        "bac = [0, 1984, 2050, 2380, 2998, 3350, 3460]\n",
        "index = 1\n",
        "total = 0\n",
        "\n",
        "while so_dien_da_dung>0 :\n",
        "    if index==1 or index==2:\n",
        "        total += min(50, negative_to_zero(so_dien_da_dung))*bac[index]\n",
        "        so_dien_da_dung -= 50\n",
        "        index+=1\n",
        "        continue\n",
        "    total += min(100, negative_to_zero(so_dien_da_dung))*bac[index]\n",
        "    so_dien_da_dung-=100\n",
        "    if (index<6) :\n",
        "        index+=1\n",
        "\n",
        "total *= 1.08 #VAT 8%\n",
        "\n",
        "print(f\"Ho va ten: {name}\")\n",
        "print(int(total+0.5))"
      ],
      "metadata": {
        "id": "qDc7q5ex4HPY"
      },
      "execution_count": null,
      "outputs": []
    },
    {
      "cell_type": "markdown",
      "source": [
        "Phần bài tập làm thêm"
      ],
      "metadata": {
        "id": "oytUuiyv4Qw5"
      }
    },
    {
      "cell_type": "code",
      "source": [
        "#bai 1\n",
        "n = int(input(\"Hay nhap 1 so nguyen: \"))\n",
        "if n&1==0:\n",
        "    print(\"Day la so chan\")\n",
        "else:\n",
        "    print(\"Day la so le\")"
      ],
      "metadata": {
        "id": "HuW2tNJH4k2Z"
      },
      "execution_count": null,
      "outputs": []
    },
    {
      "cell_type": "code",
      "source": [
        "#bai 2\n",
        "n = int(input(\"Hay nhap 1 so nguyen: \"))\n",
        "if n%10==5:\n",
        "    print(\"True\")\n",
        "else:\n",
        "    print(\"False\")"
      ],
      "metadata": {
        "id": "u9EkNDZ34vOI"
      },
      "execution_count": null,
      "outputs": []
    },
    {
      "cell_type": "code",
      "source": [
        "#bai 3\n",
        "n = int(input(\"Hay nhap 1 so nguyen: \"))\n",
        "if n%3==0 and n%5==0:\n",
        "    print(\"True\")\n",
        "else:\n",
        "    print(\"False\")"
      ],
      "metadata": {
        "id": "2O1oCTP04xnw"
      },
      "execution_count": null,
      "outputs": []
    },
    {
      "cell_type": "code",
      "source": [
        "#bai 4\n",
        "#coi nhu nam hien tai la 2025\n",
        "birthyear = int(input(\"Hay nhap nam sinh: \"))\n",
        "if 2025-birthyear<18:\n",
        "    print(\"Khong du dieu kien tham gia bau cu\")\n",
        "else:\n",
        "    print(\"Du dieu kien tham gia bau cu\")"
      ],
      "metadata": {
        "id": "U9s_sqQX40iA"
      },
      "execution_count": null,
      "outputs": []
    },
    {
      "cell_type": "code",
      "source": [
        "#bai 5\n",
        "a = int(input(\"Nhap so thu nhat: \"))\n",
        "b = int(input(\"Nhap so thu hai: \"))\n",
        "if a==b:\n",
        "    print(\"Hai so bang nhau\")\n",
        "else:\n",
        "    print(f\"So lon hon la: {max(a, b)}\")"
      ],
      "metadata": {
        "id": "6oI5f7kl43fQ"
      },
      "execution_count": null,
      "outputs": []
    },
    {
      "cell_type": "code",
      "source": [
        "#bai 6\n",
        "c = input(\"Hay nhap mot ki tu: \")\n",
        "if (ord('0')<=ord(c)<=ord('9')):\n",
        "    print(\"Day la mot so\")\n",
        "elif (ord('A')<=ord(c)<=ord('z')):\n",
        "    print(\"Day la mot chu cai\")\n",
        "else:\n",
        "    print(\"Day khong phai la so cung khong phai la chu\")"
      ],
      "metadata": {
        "id": "41IVyghs47Yf"
      },
      "execution_count": null,
      "outputs": []
    },
    {
      "cell_type": "code",
      "source": [
        "#bai 7\n",
        "diem = float(input(\"Nhap diem: \"))\n",
        "match diem:\n",
        "    case gioi if gioi>=8.0:\n",
        "        print(\"Hoc luc gioi\")\n",
        "    case kha if kha>=6.5 and kha<8.0:\n",
        "        print(\"Hoc luc kha\")\n",
        "    case trung_binh if trung_binh>=5.0 and trung_binh<6.5:\n",
        "        print(\"Hoc luc trung binh\")\n",
        "    case yeu if yeu<5.0:\n",
        "        print(\"Hoc luc yeu\")\n",
        "    case _:\n",
        "        print(\"Diem khong hop le\")"
      ],
      "metadata": {
        "id": "D7LTNgXD4_T4"
      },
      "execution_count": null,
      "outputs": []
    },
    {
      "cell_type": "code",
      "source": [
        "#bai 8\n",
        "nam = int(input(\"Nhap nam: \"))\n",
        "if nam%400==0 or (nam%4==0 and nam%100!=0):\n",
        "    print(\"Day la nam nhuan\")\n",
        "else:\n",
        "    print(\"Day khong phai la nam nhuan\")"
      ],
      "metadata": {
        "id": "FcJGIhKQ5EcA"
      },
      "execution_count": null,
      "outputs": []
    },
    {
      "cell_type": "code",
      "source": [
        "#bai 9\n",
        "n = int(input(\"Nhap 1 so nguyen tu 0 den 9: \"))\n",
        "match n:\n",
        "    case 0:\n",
        "        print(\"Khong\")\n",
        "    case 1:\n",
        "        print(\"Mot\")\n",
        "    case 2:\n",
        "        print(\"Hai\")\n",
        "    case 3:\n",
        "        print(\"Ba\")\n",
        "    case 4:\n",
        "        print(\"Bon\")\n",
        "    case 5:\n",
        "        print(\"Nam\")\n",
        "    case 6:\n",
        "        print(\"Sau\")\n",
        "    case 7:\n",
        "        print(\"Bay\")\n",
        "    case 8:\n",
        "        print(\"Tam\")\n",
        "    case 9:\n",
        "        print(\"Chin\")\n",
        "    case _:\n",
        "        print(\"So khong hop le\")"
      ],
      "metadata": {
        "id": "glYWLG035HAY"
      },
      "execution_count": null,
      "outputs": []
    },
    {
      "cell_type": "code",
      "source": [
        "#bai 10\n",
        "diem = int(input(\"Nhap diem thi: \"))\n",
        "if diem>=4:\n",
        "    print(\"Qua mon\")\n",
        "else:\n",
        "    print(\"Hoc lai\")"
      ],
      "metadata": {
        "id": "oii7iJ-15L-P"
      },
      "execution_count": null,
      "outputs": []
    },
    {
      "cell_type": "code",
      "source": [
        "#bai 11\n",
        "birthyear = int(input(\"Nhap nam sinh: \"))\n",
        "if 2025-birthyear>=18:\n",
        "    print(\"Da du 18 tuoi\")\n",
        "else:\n",
        "    print(\"Chua du 18 tuoi\")"
      ],
      "metadata": {
        "id": "Sn22vsbs5QTY"
      },
      "execution_count": null,
      "outputs": []
    }
  ]
}